{
  "cells": [
    {
      "cell_type": "code",
      "source": [
        "!pip install --ignore-installed blinker"
      ],
      "metadata": {
        "id": "777b6_rZVQYk"
      },
      "execution_count": null,
      "outputs": []
    },
    {
      "cell_type": "code",
      "execution_count": null,
      "metadata": {
        "id": "xbsUIKFSSLYR"
      },
      "outputs": [],
      "source": [
        "!pip install -U PyMySQL sqlalchemy flask pyngrok geopandas pygeos sodapy"
      ]
    },
    {
      "cell_type": "code",
      "execution_count": null,
      "metadata": {
        "id": "_KMrSmqQwtQL"
      },
      "outputs": [],
      "source": [
        "import pandas as pd\n",
        "from sqlalchemy import create_engine\n",
        "import geopandas as gpd\n",
        "import seaborn as sns\n",
        "import matplotlib.pyplot as plt\n",
        "from sodapy import Socrata\n",
        "import numpy as np"
      ]
    },
    {
      "cell_type": "code",
      "execution_count": null,
      "metadata": {
        "id": "0301B4LAdoNk"
      },
      "outputs": [],
      "source": [
        "from google.colab import drive\n",
        "drive.mount('/content/drive')"
      ]
    },
    {
      "cell_type": "markdown",
      "metadata": {
        "id": "8KXUFXq4x9Dn"
      },
      "source": [
        "## **NYC Monthly Tonnage Data**"
      ]
    },
    {
      "cell_type": "code",
      "execution_count": null,
      "metadata": {
        "id": "fnW1S4XtoTEy"
      },
      "outputs": [],
      "source": [
        "client = Socrata('data.cityofnewyork.us',\n",
        "                 '7lNEaKU6tflxrc2RGLtO8riHn',\n",
        "                 username=\"cv25h2tpnfgm0x6xor5wfx2pt\",\n",
        "                 password=\"1hdkfdyecseu5ryqf64y0rnkszph7oyf8h0o1zzjw2krtwl73p\")\n",
        "\n",
        "\n",
        "results = client.get(\"ebb7-mvp5\", limit=23000)\n",
        "\n",
        "# Convert to pandas DataFrame\n",
        "q5 = pd.DataFrame.from_records(results)"
      ]
    },
    {
      "cell_type": "code",
      "execution_count": null,
      "metadata": {
        "id": "f3eVfevy_7_w"
      },
      "outputs": [],
      "source": [
        "q5 = q5.drop(['communitydistrict','borough_id'], axis=1)\n",
        "q5.columns = q5.columns.str.upper()"
      ]
    },
    {
      "cell_type": "code",
      "execution_count": null,
      "metadata": {
        "id": "YrzpAb49MrML"
      },
      "outputs": [],
      "source": [
        "#add year var\n",
        "q5['year'] = pd.DatetimeIndex(q5['MONTH']).year\n",
        "# q5['year'] = pd.DatetimeIndex(q5['MONTH']).year\n",
        "q5['month'] = pd.DatetimeIndex(q5['MONTH']).month"
      ]
    },
    {
      "cell_type": "code",
      "execution_count": null,
      "metadata": {
        "id": "9EgrUNWUpUXr"
      },
      "outputs": [],
      "source": [
        "q5.loc[:,'REFUSETONSCOLLECTED':'XMASTREETONS'] = q5.loc[:,'REFUSETONSCOLLECTED':'XMASTREETONS'].astype(float).round(2)\n",
        "q5.loc[:, 'REFUSETONSCOLLECTED':'XMASTREETONS'] = q5.loc[:, 'REFUSETONSCOLLECTED':'XMASTREETONS'].fillna(0)"
      ]
    },
    {
      "cell_type": "markdown",
      "metadata": {
        "id": "aVw4z6GJyLez"
      },
      "source": [
        "### NYC Yearly Total Waste"
      ]
    },
    {
      "cell_type": "code",
      "execution_count": null,
      "metadata": {
        "id": "Dl9NgiubxlM0"
      },
      "outputs": [],
      "source": [
        "totalWaste = q5.loc[:,'REFUSETONSCOLLECTED':'XMASTREETONS'].T.sum()\n",
        "q5['totalWaste'] = totalWaste"
      ]
    },
    {
      "cell_type": "code",
      "execution_count": null,
      "metadata": {
        "id": "w0ODWmDLs-AC"
      },
      "outputs": [],
      "source": [
        "yearly_data = q5.loc[:,'year':'totalWaste']\n",
        "yearly_data = yearly_data.groupby('year')['totalWaste'].sum()\n",
        "yearly_data.plot(x ='year', y='totalWaste', kind='line')\n",
        "plt.ylabel('Tons')\n",
        "plt.title('NYC Yearly Total Waste')\n",
        "plt.ticklabel_format(useOffset=False, style='plain')"
      ]
    },
    {
      "cell_type": "code",
      "execution_count": null,
      "metadata": {
        "id": "6a2WYUjU7Fwg"
      },
      "outputs": [],
      "source": [
        "yearly_data_chart_years = list(yearly_data.index)\n",
        "yearly_data_chart_values = yearly_data.to_list()"
      ]
    },
    {
      "cell_type": "markdown",
      "metadata": {
        "id": "h2tttfppynT_"
      },
      "source": [
        "### NYC Yearly Paper Waste"
      ]
    },
    {
      "cell_type": "code",
      "execution_count": null,
      "metadata": {
        "id": "te_wNiO_xeQk"
      },
      "outputs": [],
      "source": [
        "yearly_paper = q5.loc[:, ['PAPERTONSCOLLECTED','year']]\n",
        "yearly_paper = yearly_paper.groupby('year')['PAPERTONSCOLLECTED'].sum()\n",
        "yearly_paper.plot(x ='year', y='PAPERTONSCOLLECTED', kind='line')\n",
        "#plt.ylim(90, 100)\n",
        "plt.title('NYC Yearly Paper Waste')\n",
        "plt.ticklabel_format(useOffset=False, style='plain')"
      ]
    },
    {
      "cell_type": "code",
      "execution_count": null,
      "metadata": {
        "id": "ER8aLicK9uOp"
      },
      "outputs": [],
      "source": [
        "yearly_paper_chart_years = list(yearly_paper.index)\n",
        "yearly_paper_chart_values = yearly_paper.to_list()"
      ]
    },
    {
      "cell_type": "markdown",
      "metadata": {
        "id": "Q2H67myoy6MU"
      },
      "source": [
        "### NYC Yearly Refuse Waste"
      ]
    },
    {
      "cell_type": "code",
      "execution_count": null,
      "metadata": {
        "id": "CfFuA-ORuZ2s"
      },
      "outputs": [],
      "source": [
        "#yearly tons of refuse collected\n",
        "yearly_refuse = q5.loc[:,'REFUSETONSCOLLECTED':'year']\n",
        "yearly_refuse = yearly_refuse.groupby('year')['REFUSETONSCOLLECTED'].sum()\n",
        "yearly_refuse.plot(x ='year', y='REFUSETONSCOLLECTED', kind='line')\n",
        "#plt.ylim(90, 100)\n",
        "plt.ylabel('Tons')\n",
        "plt.title('NYC Yearly Refuse Waste')\n",
        "plt.ticklabel_format(useOffset=False, style='plain')"
      ]
    },
    {
      "cell_type": "code",
      "execution_count": null,
      "metadata": {
        "id": "TSbAretZ-F4_"
      },
      "outputs": [],
      "source": [
        "yearly_refuse_chart_years = list(yearly_refuse.index)\n",
        "yearly_refuse_chart_values = yearly_refuse.to_list()"
      ]
    },
    {
      "cell_type": "markdown",
      "metadata": {
        "id": "KL1ANnlRzDF0"
      },
      "source": [
        "### NYC Yearly Metal, Glass, and Plastic Waste"
      ]
    },
    {
      "cell_type": "code",
      "execution_count": null,
      "metadata": {
        "id": "7MnZY66tzIF3"
      },
      "outputs": [],
      "source": [
        "#yearly tons of metal, glass, plastic, & beverage cartons collected\n",
        "yearly_mgpt = q5.loc[:,'MGPTONSCOLLECTED':'year']\n",
        "yearly_mgpt = yearly_mgpt.groupby('year')['MGPTONSCOLLECTED'].sum()\n",
        "yearly_mgpt.plot(x ='year', y='MGPTONSCOLLECTED', kind='line')\n",
        "#plt.ylim(90, 100)\n",
        "plt.ylabel('Tons')\n",
        "plt.title('NYC Yearly Metal, Glass, & Plastic Waste')\n",
        "plt.ticklabel_format(useOffset=False, style='plain')"
      ]
    },
    {
      "cell_type": "code",
      "execution_count": null,
      "metadata": {
        "id": "zK1BccQE-Mhf"
      },
      "outputs": [],
      "source": [
        "yearly_mgpt_chart_years = list(yearly_mgpt.index)\n",
        "yearly_mgpt_chart_values = yearly_mgpt.to_list()"
      ]
    },
    {
      "cell_type": "markdown",
      "metadata": {
        "id": "iHd8vjEd3m2U"
      },
      "source": [
        "### Fast Facts 2022"
      ]
    },
    {
      "cell_type": "code",
      "execution_count": null,
      "metadata": {
        "id": "GiVG-LmHA08v"
      },
      "outputs": [],
      "source": [
        "import datetime\n",
        "today = datetime.date.today()\n",
        "# current_year = int(today.strftime(\"%Y\"))\n",
        "current_year = 2022\n",
        "prev_year = current_year - 1"
      ]
    },
    {
      "cell_type": "code",
      "execution_count": null,
      "metadata": {
        "id": "YAJQNy7s3mgd"
      },
      "outputs": [],
      "source": [
        "def get_change(current, previous):\n",
        "    if current == previous:\n",
        "        return 0\n",
        "    try:\n",
        "        return (current - previous) / previous * 100.0\n",
        "    except ZeroDivisionError:\n",
        "        return float('inf')\n",
        "\n",
        "totalWasteCollected2022 = yearly_data[current_year]\n",
        "percentageChangeWaste = round(get_change(totalWasteCollected2022, yearly_data[prev_year]),2)\n",
        "totalPaper2022 = yearly_paper[current_year]\n",
        "percentageChangePaper = round(get_change(totalPaper2022, yearly_paper[prev_year]),2)\n",
        "totalRefuse2022 = yearly_refuse[current_year]\n",
        "percentageChangeRefuse = round(get_change(totalRefuse2022, yearly_refuse[prev_year]),2)\n",
        "totalMGP2022 = yearly_mgpt[current_year]\n",
        "percentageChangeMGP = round(get_change(totalMGP2022, yearly_mgpt[prev_year]),2)"
      ]
    },
    {
      "cell_type": "markdown",
      "metadata": {
        "id": "AmLgX5sIzQnt"
      },
      "source": [
        "### NYC Yealy Total Waste Collected in Last 5 Years"
      ]
    },
    {
      "cell_type": "code",
      "execution_count": null,
      "metadata": {
        "id": "y2dXB3-pzQFG"
      },
      "outputs": [],
      "source": [
        "yearly_waste_5 = q5[q5.year>=2018]\n",
        "\n",
        "#yearly tons of total waste collected\n",
        "yearly_waste_5 = yearly_waste_5.loc[:,'year':'totalWaste']\n",
        "yearly_waste_5 = yearly_waste_5.groupby('year')['totalWaste'].sum()\n",
        "yearly_waste_5.plot(x = 'year', y='totalWaste', kind='line')\n",
        "plt.ylabel('Tons')\n",
        "plt.xticks(np.arange(2018,2023))\n",
        "plt.title('NYC Yearly Total Waste Over Last 5 Years')\n",
        "plt.ticklabel_format(useOffset=False, style='plain')"
      ]
    },
    {
      "cell_type": "markdown",
      "metadata": {
        "id": "ifB3uPrX00qM"
      },
      "source": [
        "## **Waste Analysis - By Boroughs**"
      ]
    },
    {
      "cell_type": "markdown",
      "metadata": {
        "id": "zQHUzyVi1Dgr"
      },
      "source": [
        "### Yearly Total Waste Collected - by Boroughs"
      ]
    },
    {
      "cell_type": "code",
      "execution_count": null,
      "metadata": {
        "id": "4Fw3gA5g1AM_"
      },
      "outputs": [],
      "source": [
        "yearly_tonnage_boroughs = q5.groupby(['BOROUGH','year'])['totalWaste'].sum()\n",
        "# Yearly waste produced by boroughs\n",
        "yearly_tonnage_boroughs = yearly_tonnage_boroughs.to_frame()\n",
        "yearly_tonnage_boroughs.pivot_table(\n",
        "    index='year',\n",
        "    columns='BOROUGH',\n",
        "    values='totalWaste',\n",
        "    aggfunc='sum'\n",
        ").plot(\n",
        "    kind='line',\n",
        "    # subplots=True,\n",
        "    figsize=(24,20)\n",
        ")\n",
        "plt.ylabel('Tons')\n",
        "plt.title('Yearly Total Waste Collected By Boroughs')\n",
        "plt.xticks(np.arange(1990,2023))\n",
        "plt.ticklabel_format(useOffset=False, style='plain')"
      ]
    },
    {
      "cell_type": "code",
      "execution_count": null,
      "metadata": {
        "id": "qgzjDUBa_Wg_"
      },
      "outputs": [],
      "source": [
        "years_boro_chart = list(yearly_tonnage_boroughs.loc['Bronx'].index)\n",
        "bronx_total_years = list(yearly_tonnage_boroughs.loc['Bronx'].index)\n",
        "bronx_values = yearly_tonnage_boroughs.loc['Bronx']['totalWaste'].to_list()\n",
        "manhattan_total_years = list(yearly_tonnage_boroughs.loc['Manhattan'].index)\n",
        "manhattan_values = yearly_tonnage_boroughs.loc['Manhattan']['totalWaste'].to_list()\n",
        "brooklyn_total_years = list(yearly_tonnage_boroughs.loc['Brooklyn'].index)\n",
        "brooklyn_values = yearly_tonnage_boroughs.loc['Brooklyn']['totalWaste'].to_list()\n",
        "queens_total_years = list(yearly_tonnage_boroughs.loc['Queens'].index)\n",
        "queens_values = yearly_tonnage_boroughs.loc['Queens']['totalWaste'].to_list()\n",
        "staten_total_years = list(yearly_tonnage_boroughs.loc['Staten Island'].index)\n",
        "staten_values = yearly_tonnage_boroughs.loc['Staten Island']['totalWaste'].to_list()\n"
      ]
    },
    {
      "cell_type": "markdown",
      "metadata": {
        "id": "6ax01kfY4QtG"
      },
      "source": [
        "### Yearly Total Waste Collected by Boroughs - Subplots"
      ]
    },
    {
      "cell_type": "code",
      "execution_count": null,
      "metadata": {
        "id": "j7C-VkxX3gEl"
      },
      "outputs": [],
      "source": [
        "yearly_tonnage_boroughs = q5.groupby(['BOROUGH','year'], as_index=False)['totalWaste'].sum()\n",
        "plt.figure(figsize=(18, 8), dpi=80) #resize figure\n",
        "\n",
        "boroughs = ['Bronx', 'Brooklyn', 'Manhattan', 'Queens', 'Staten Island']\n",
        "for i, b in enumerate(boroughs):\n",
        "  curr = yearly_tonnage_boroughs[yearly_tonnage_boroughs.BOROUGH == b]\n",
        "  subplot_string = '23' + str(i + 1) #2 rows, 3 columns in total for our subplot, i is index of subplot\n",
        "  plt.subplot(int(subplot_string)) #create the subplot\n",
        "  plt.plot(curr['year'].values, curr['totalWaste'].values) #plot values\n",
        "  plt.ylim(0, 1200000)\n",
        "  plt.ylabel('Tons')\n",
        "  title = str(b) + ' Yearly Total Waste' #make title\n",
        "  plt.title(title)\n",
        "  plt.ticklabel_format(useOffset=False, style='plain') #prevent scientific notation"
      ]
    },
    {
      "cell_type": "markdown",
      "metadata": {
        "id": "ISYfyBB41LVd"
      },
      "source": [
        "### Borough Rankings based on Tonnes of Waste Collected from Each Borough"
      ]
    },
    {
      "cell_type": "code",
      "execution_count": null,
      "metadata": {
        "id": "UwS3T-LU1dw3"
      },
      "outputs": [],
      "source": [
        "waste_rating = q5[['totalWaste','BOROUGH']].groupby('BOROUGH').sum()\n",
        "waste_rating = waste_rating.sort_values(by='totalWaste', ascending=False)\n",
        "waste_rating"
      ]
    },
    {
      "cell_type": "code",
      "execution_count": null,
      "metadata": {
        "id": "WRt5mifqB1vv"
      },
      "outputs": [],
      "source": [
        "pie_labels = list(waste_rating.index)\n",
        "pie_values = waste_rating['totalWaste'].to_list()"
      ]
    },
    {
      "cell_type": "code",
      "execution_count": null,
      "metadata": {
        "id": "JAXXfFi_GBtQ"
      },
      "outputs": [],
      "source": [
        "pie_dict = { }\n",
        "for i, boro in enumerate(pie_labels):\n",
        "  pie_dict[i+1] = boro"
      ]
    },
    {
      "cell_type": "code",
      "execution_count": null,
      "metadata": {
        "id": "vaI3q2eb1gfE"
      },
      "outputs": [],
      "source": [
        "waste_rating.plot(kind='barh')\n",
        "plt.xlabel('Tons')\n",
        "plt.ticklabel_format(axis='x', useOffset=False)"
      ]
    },
    {
      "cell_type": "markdown",
      "metadata": {
        "id": "klbqzusD231W"
      },
      "source": [
        "### Waste Ratings for 2022"
      ]
    },
    {
      "cell_type": "code",
      "execution_count": null,
      "metadata": {
        "id": "ymOLAlw426en"
      },
      "outputs": [],
      "source": [
        "waste_rating2022 = q5.loc[q5.year == current_year]\n",
        "waste_rating2022 = waste_rating2022[['totalWaste','BOROUGH']].groupby('BOROUGH').sum()\n",
        "waste_rating2022 = waste_rating2022.sort_values(by='totalWaste', ascending=False)\n",
        "waste_rating2022"
      ]
    },
    {
      "cell_type": "code",
      "execution_count": null,
      "metadata": {
        "id": "C38DRg6Y2_PS"
      },
      "outputs": [],
      "source": [
        "waste_rating2022.plot.pie(subplots=True)"
      ]
    },
    {
      "cell_type": "markdown",
      "metadata": {
        "id": "TswKmMUL3NXt"
      },
      "source": [
        "### Yearly Refuse Waste - By Boroughs - Subplots & Rankings"
      ]
    },
    {
      "cell_type": "code",
      "execution_count": null,
      "metadata": {
        "id": "cY6LPmAj3ZT1"
      },
      "outputs": [],
      "source": [
        "#yearly refuse tons by borough\n",
        "boro_refuse = q5.groupby(['BOROUGH', 'year'], as_index=False)['REFUSETONSCOLLECTED'].sum()\n",
        "boro_refuse"
      ]
    },
    {
      "cell_type": "code",
      "execution_count": null,
      "metadata": {
        "id": "lOTatSqDgwWZ"
      },
      "outputs": [],
      "source": [
        "refuse = q5.groupby(['BOROUGH', 'year'])['REFUSETONSCOLLECTED'].sum()\n",
        "bronx_refuse = refuse['Bronx'].to_list()\n",
        "bronx_refuse_years = list(refuse['Bronx'].index)\n",
        "manhattan_refuse = refuse['Manhattan'].to_list()\n",
        "manhattan_refuse_years = list(refuse['Manhattan'].index)\n",
        "brooklyn_refuse = refuse['Brooklyn'].to_list()\n",
        "brooklyn_refuse_years = list(refuse['Brooklyn'].index)\n",
        "staten_refuse = refuse['Staten Island'].to_list()\n",
        "staten_refuse_years = list(refuse['Staten Island'].index)\n",
        "queens_refuse = refuse['Queens'].to_list()\n",
        "queens_refuse_years = list(refuse['Queens'].index)"
      ]
    },
    {
      "cell_type": "code",
      "execution_count": null,
      "metadata": {
        "id": "KlXRZQ3e3bi_"
      },
      "outputs": [],
      "source": [
        "# dataframe with descending order by borough on total refuse\n",
        "refuse_rating = q5[['REFUSETONSCOLLECTED','BOROUGH']].groupby('BOROUGH').sum()\n",
        "refuse_rating = refuse_rating.sort_values(by='REFUSETONSCOLLECTED', ascending=False)\n",
        "refuse_rating"
      ]
    },
    {
      "cell_type": "code",
      "execution_count": null,
      "metadata": {
        "id": "-O19gGCK5m2i"
      },
      "outputs": [],
      "source": [
        "plt.figure(figsize=(18, 8), dpi=80) #resize figure\n",
        "\n",
        "for i, b in enumerate(boroughs):\n",
        "  curr = boro_refuse[boro_refuse.BOROUGH == b]\n",
        "  subplot_string = '23' + str(i + 1) #2 rows, 3 columns in total for our subplot, i is index of subplot\n",
        "  plt.subplot(int(subplot_string)) #create the subplot\n",
        "  plt.plot(curr['year'].values, curr['REFUSETONSCOLLECTED'].values) #plot values\n",
        "  plt.ylim(0, 1000000)\n",
        "  plt.ylabel('Tons')\n",
        "  title = str(b) + ' Yearly Total Refuse' #make title\n",
        "  plt.title(title)\n",
        "  plt.ticklabel_format(useOffset=False, style='plain') #prevent sci"
      ]
    },
    {
      "cell_type": "code",
      "execution_count": null,
      "metadata": {
        "id": "GlfjNFyg5t-e"
      },
      "outputs": [],
      "source": [
        "refuse_rating.plot(kind = 'bar')"
      ]
    },
    {
      "cell_type": "markdown",
      "metadata": {
        "id": "-vQ__skZ5xpW"
      },
      "source": [
        "### Yearly Paper Waste - By Boroughs - Subplots & Rankings"
      ]
    },
    {
      "cell_type": "code",
      "execution_count": null,
      "metadata": {
        "id": "1lZ4TA2957xR"
      },
      "outputs": [],
      "source": [
        "#yearly paper tons by borough\n",
        "boro_paper = q5.groupby(['BOROUGH', 'year'], as_index=False)['PAPERTONSCOLLECTED'].sum()\n",
        "boro_paper"
      ]
    },
    {
      "cell_type": "code",
      "execution_count": null,
      "metadata": {
        "id": "ZxM9yO7gis45"
      },
      "outputs": [],
      "source": [
        "paper = q5.groupby(['BOROUGH', 'year'])['PAPERTONSCOLLECTED'].sum()\n",
        "bronx_paper = paper['Bronx'].to_list()\n",
        "bronx_paper_years = list(paper['Bronx'].index)\n",
        "manhattan_paper = paper['Manhattan'].to_list()\n",
        "manhattan_paper_years = list(paper['Manhattan'].index)\n",
        "brooklyn_paper = paper['Brooklyn'].to_list()\n",
        "brooklyn_paper_years = list(paper['Brooklyn'].index)\n",
        "staten_paper = paper['Staten Island'].to_list()\n",
        "staten_paper_years = list(paper['Staten Island'].index)\n",
        "queens_paper = paper['Queens'].to_list()\n",
        "queens_paper_years = list(paper['Queens'].index)"
      ]
    },
    {
      "cell_type": "code",
      "execution_count": null,
      "metadata": {
        "id": "Bj0rcooI5--v"
      },
      "outputs": [],
      "source": [
        "# dataframe with descending order by borough on total paper collected\n",
        "paper_rating = q5[['PAPERTONSCOLLECTED','BOROUGH']].groupby('BOROUGH').sum()\n",
        "paper_rating = paper_rating.sort_values(by='PAPERTONSCOLLECTED', ascending=False)\n",
        "paper_rating"
      ]
    },
    {
      "cell_type": "code",
      "execution_count": null,
      "metadata": {
        "id": "RBDD3q7E6CaB"
      },
      "outputs": [],
      "source": [
        "plt.figure(figsize=(18, 8), dpi=80) #resize figure\n",
        "\n",
        "for i, b in enumerate(boroughs):\n",
        "  curr = boro_paper[boro_paper.BOROUGH == b]\n",
        "  subplot_string = '23' + str(i + 1) #2 rows, 3 columns in total for our subplot, i is index of subplot\n",
        "  plt.subplot(int(subplot_string)) #create the subplot\n",
        "  plt.plot(curr['year'].values, curr['PAPERTONSCOLLECTED'].values) #plot values\n",
        "  plt.ylim(0, 120000)\n",
        "  plt.ylabel('Tons')\n",
        "  title = str(b) + ' Yearly Total Paper' #make title\n",
        "  plt.title(title)\n",
        "  plt.ticklabel_format(useOffset=False, style='plain') #prevent scientific notation"
      ]
    },
    {
      "cell_type": "code",
      "execution_count": null,
      "metadata": {
        "id": "TaRKtekH6EGo"
      },
      "outputs": [],
      "source": [
        "paper_rating.plot(kind = 'bar')"
      ]
    },
    {
      "cell_type": "markdown",
      "metadata": {
        "id": "qqNQNAYj6I_3"
      },
      "source": [
        "### Yearly Metal, Glass, and Plastic Waste - By Boroughs - Subplots & Rankings"
      ]
    },
    {
      "cell_type": "code",
      "execution_count": null,
      "metadata": {
        "id": "0qoshbjE6OuQ"
      },
      "outputs": [],
      "source": [
        "#yearly metal, glass, plastic tons by borough\n",
        "boro_mgp = q5.groupby(['BOROUGH', 'year'], as_index=False)['MGPTONSCOLLECTED'].sum()\n",
        "boro_mgp"
      ]
    },
    {
      "cell_type": "code",
      "execution_count": null,
      "metadata": {
        "id": "3YpjGXgdi4_q"
      },
      "outputs": [],
      "source": [
        "mgp = q5.groupby(['BOROUGH', 'year'])['MGPTONSCOLLECTED'].sum()\n",
        "bronx_mgp = mgp['Bronx'].to_list()\n",
        "bronx_mgp_years = list(mgp['Bronx'].index)\n",
        "manhattan_mgp = mgp['Manhattan'].to_list()\n",
        "manhattan_mgp_years = list(mgp['Manhattan'].index)\n",
        "brooklyn_mgp = mgp['Brooklyn'].to_list()\n",
        "brooklyn_mgp_years = list(mgp['Brooklyn'].index)\n",
        "staten_mgp = mgp['Staten Island'].to_list()\n",
        "staten_mgp_years = list(mgp['Staten Island'].index)\n",
        "queens_mgp = mgp['Queens'].to_list()\n",
        "queens_mgp_years = list(mgp['Queens'].index)"
      ]
    },
    {
      "cell_type": "code",
      "execution_count": null,
      "metadata": {
        "id": "YOAdvwsO6R_a"
      },
      "outputs": [],
      "source": [
        "mgp_rating = q5[['MGPTONSCOLLECTED','BOROUGH']].groupby('BOROUGH').sum()\n",
        "mgp_rating = mgp_rating.sort_values(by='MGPTONSCOLLECTED', ascending=False)\n",
        "mgp_rating"
      ]
    },
    {
      "cell_type": "code",
      "execution_count": null,
      "metadata": {
        "id": "VIQ7Rpbt6Sx4"
      },
      "outputs": [],
      "source": [
        "plt.figure(figsize=(18, 8), dpi=80) #resize figure\n",
        "\n",
        "for i, b in enumerate(boroughs):\n",
        "  curr = boro_mgp[boro_mgp.BOROUGH == b]\n",
        "  subplot_string = '23' + str(i + 1) #2 rows, 3 columns in total for our subplot, i is index of subplot\n",
        "  plt.subplot(int(subplot_string)) #create the subplot\n",
        "  plt.plot(curr['year'].values, curr['MGPTONSCOLLECTED'].values) #plot values\n",
        "  plt.ylim(0, 120000)\n",
        "  plt.ylabel('Tons')\n",
        "  title = str(b) + ' Yearly Total Metal, Glass, Plastic Waste' #make title\n",
        "  plt.title(title)\n",
        "  plt.ticklabel_format(useOffset=False, style='plain') #prevent scientific notation"
      ]
    },
    {
      "cell_type": "code",
      "execution_count": null,
      "metadata": {
        "id": "GKh1Cu3r6XIR"
      },
      "outputs": [],
      "source": [
        "mgp_rating.plot(kind = 'bar')"
      ]
    },
    {
      "cell_type": "markdown",
      "metadata": {
        "id": "7Hi0wcvU6jwV"
      },
      "source": [
        "Monthly Trends for Years in which Max & Min Waste were collected - By Boroughs"
      ]
    },
    {
      "cell_type": "code",
      "execution_count": null,
      "metadata": {
        "id": "vJ-Ds34V7L6m"
      },
      "outputs": [],
      "source": [
        "# year in which max waste was generated for each borough\n",
        "yearly_tonnage_boroughs = q5.groupby(['BOROUGH', 'year'])['totalWaste'].sum()\n",
        "max_waste_year_boroughs = yearly_tonnage_boroughs.groupby(level=0).idxmax()\n",
        "max_waste_year_boroughs"
      ]
    },
    {
      "cell_type": "code",
      "execution_count": null,
      "metadata": {
        "id": "1SDNX8xF7OnP"
      },
      "outputs": [],
      "source": [
        "# year in which min waste was generated for each borough\n",
        "min_waste_year_boroughs = yearly_tonnage_boroughs.groupby(level=0).idxmin()\n",
        "min_waste_year_boroughs"
      ]
    },
    {
      "cell_type": "code",
      "execution_count": null,
      "metadata": {
        "id": "NWK0S_ao64jz"
      },
      "outputs": [],
      "source": [
        "# had to extract month and year to get the monthly trends\n",
        "monthly_tonnage_boroughs = q5.groupby(['BOROUGH', 'year', 'month'])['totalWaste'].sum()\n",
        "monthly_tonnage_boroughs =  monthly_tonnage_boroughs.to_frame()\n",
        "monthly_tonnage_boroughs"
      ]
    },
    {
      "cell_type": "markdown",
      "metadata": {
        "id": "AXSoxNak7AO8"
      },
      "source": [
        "#### Bronx"
      ]
    },
    {
      "cell_type": "code",
      "execution_count": null,
      "metadata": {
        "id": "KzHT8H7a69WU"
      },
      "outputs": [],
      "source": [
        "bronx_max_waste = monthly_tonnage_boroughs.loc['Bronx'].loc[max_waste_year_boroughs[\"Bronx\"][1]]\n",
        "bronx_min_waste = monthly_tonnage_boroughs.loc['Bronx'].loc[min_waste_year_boroughs['Bronx'][1]]"
      ]
    },
    {
      "cell_type": "code",
      "execution_count": null,
      "metadata": {
        "id": "rCrDO3Zn7WRl"
      },
      "outputs": [],
      "source": [
        "bronx_merged = bronx_max_waste.merge(\n",
        "    bronx_min_waste,\n",
        "    on = 'month'\n",
        ")\n",
        "bronx_merged = bronx_merged.rename(columns={'totalWaste_x':f\"{max_waste_year_boroughs['Bronx'][1]}\",'totalWaste_y':f\"{min_waste_year_boroughs['Bronx'][1]}\"})\n",
        "bronx_merged.plot()\n",
        "plt.ylabel('Tons')\n",
        "plt.xlabel('Month')\n",
        "plt.title(\"Monthly Waste Trend for the Year with the Min & Max Waste Generated in Bronx\")\n",
        "plt.ticklabel_format(useOffset=False, style='plain')\n",
        "plt.xticks(np.arange(1,13))\n",
        "plt.figure(figsize=(10,10))"
      ]
    },
    {
      "cell_type": "markdown",
      "metadata": {
        "id": "gDKUJ-o87aQj"
      },
      "source": [
        "#### Manhattan"
      ]
    },
    {
      "cell_type": "code",
      "execution_count": null,
      "metadata": {
        "id": "remibdbD7b1D"
      },
      "outputs": [],
      "source": [
        "manhattan_max_waste = monthly_tonnage_boroughs.loc['Manhattan'].loc[max_waste_year_boroughs['Manhattan'][1]]\n",
        "manhattan_min_waste = monthly_tonnage_boroughs.loc['Manhattan'].loc[min_waste_year_boroughs['Manhattan'][1]]\n",
        "manhattan_merged = manhattan_max_waste.merge(\n",
        "    manhattan_min_waste,\n",
        "    on = 'month'\n",
        ")\n",
        "manhattan_merged = manhattan_merged.rename(columns={'totalWaste_x':f\"{max_waste_year_boroughs['Manhattan'][1]}\",'totalWaste_y':f\"{min_waste_year_boroughs['Manhattan'][1]}\"})\n",
        "manhattan_merged.plot()\n",
        "plt.ylabel('Tons')\n",
        "plt.xlabel('Month')\n",
        "plt.title(\"Monthly Waste Trend for the Year with the Min & Max Waste Generated in Manhattan\")\n",
        "plt.ticklabel_format(useOffset=False, style='plain')\n",
        "plt.xticks(np.arange(1,13))\n",
        "plt.figure(figsize=(10,10))"
      ]
    },
    {
      "cell_type": "markdown",
      "metadata": {
        "id": "Lle8gRvA7u1-"
      },
      "source": [
        "#### Brooklyn"
      ]
    },
    {
      "cell_type": "code",
      "execution_count": null,
      "metadata": {
        "id": "noI8laD77wG8"
      },
      "outputs": [],
      "source": [
        "brooklyn_max_waste = monthly_tonnage_boroughs.loc['Brooklyn'].loc[max_waste_year_boroughs['Brooklyn'][1]]\n",
        "brooklyn_min_waste = monthly_tonnage_boroughs.loc['Brooklyn'].loc[min_waste_year_boroughs['Brooklyn'][1]]\n",
        "brooklyn_merged = brooklyn_max_waste.merge(\n",
        "    brooklyn_min_waste,\n",
        "    on = 'month'\n",
        ")\n",
        "brooklyn_merged = brooklyn_merged.rename(columns={'totalWaste_x':f\"{max_waste_year_boroughs['Brooklyn'][1]}\",'totalWaste_y':f\"{min_waste_year_boroughs['Brooklyn'][1]}\"})\n",
        "brooklyn_merged.plot()\n",
        "plt.ylabel('Tons')\n",
        "plt.xlabel('Month')\n",
        "plt.title(\"Monthly Waste Trend for the Year with the Min & Max Waste Generated in Brooklyn\")\n",
        "plt.ticklabel_format(useOffset=False, style='plain')\n",
        "plt.xticks(np.arange(1,13))\n",
        "plt.figure(figsize=(10,10))"
      ]
    },
    {
      "cell_type": "markdown",
      "metadata": {
        "id": "F95Fb8vO72GR"
      },
      "source": [
        "#### Queens"
      ]
    },
    {
      "cell_type": "code",
      "execution_count": null,
      "metadata": {
        "id": "Dpl9xaww739j"
      },
      "outputs": [],
      "source": [
        "queens_max_waste = monthly_tonnage_boroughs.loc['Queens'].loc[max_waste_year_boroughs['Queens'][1]]\n",
        "queens_min_waste = monthly_tonnage_boroughs.loc['Queens'].loc[min_waste_year_boroughs['Queens'][1]]\n",
        "queens_merged = queens_max_waste.merge(\n",
        "    queens_min_waste,\n",
        "    on = 'month'\n",
        ")\n",
        "queens_merged = queens_merged.rename(columns={'totalWaste_x':f\"{max_waste_year_boroughs['Queens'][1]}\",'totalWaste_y':f\"{min_waste_year_boroughs['Queens'][1]}\"})\n",
        "queens_merged.plot()\n",
        "plt.ylabel('Tons')\n",
        "plt.xlabel('Month')\n",
        "plt.title(\"Monthly Waste Trend for the Year with the Min & Max Waste Generated in Queens\")\n",
        "plt.ticklabel_format(useOffset=False, style='plain')\n",
        "plt.xticks(np.arange(1,13))\n",
        "plt.figure(figsize=(10,10))"
      ]
    },
    {
      "cell_type": "markdown",
      "metadata": {
        "id": "IlSOgpnx8JxW"
      },
      "source": [
        "#### Staten Island"
      ]
    },
    {
      "cell_type": "code",
      "execution_count": null,
      "metadata": {
        "id": "gbWJSKr18MZD"
      },
      "outputs": [],
      "source": [
        "staten_max_waste = monthly_tonnage_boroughs.loc['Staten Island'].loc[max_waste_year_boroughs['Staten Island'][1]]\n",
        "staten_min_waste = monthly_tonnage_boroughs.loc['Staten Island'].loc[min_waste_year_boroughs['Staten Island'][1]]\n",
        "staten_merged = staten_max_waste.merge(\n",
        "    staten_min_waste,\n",
        "    on = 'month'\n",
        ")\n",
        "staten_merged = staten_merged.rename(columns={'totalWaste_x':f\"{max_waste_year_boroughs['Staten Island'][1]}\",'totalWaste_y':f\"{min_waste_year_boroughs['Staten Island'][1]}\"})\n",
        "staten_merged.plot()\n",
        "plt.ylabel('Tons')\n",
        "plt.xlabel('Month')\n",
        "plt.title(\"Monthly Waste Trend for the Year with the Min & Max Waste Generated in Staten Island\")\n",
        "plt.ticklabel_format(useOffset=False, style='plain')\n",
        "plt.xticks(np.arange(1,13))\n",
        "plt.figure(figsize=(10,10))"
      ]
    },
    {
      "cell_type": "markdown",
      "metadata": {
        "id": "To5d-s6C8aat"
      },
      "source": [
        "## Recycling Dataset"
      ]
    },
    {
      "cell_type": "code",
      "execution_count": null,
      "metadata": {
        "id": "SNhfYHwtpjb_"
      },
      "outputs": [],
      "source": [
        "client = Socrata('data.cityofnewyork.us',\n",
        "                 '7lNEaKU6tflxrc2RGLtO8riHn',\n",
        "                 username=\"cv25h2tpnfgm0x6xor5wfx2pt\",\n",
        "                 password=\"1hdkfdyecseu5ryqf64y0rnkszph7oyf8h0o1zzjw2krtwl73p\")\n",
        "\n",
        "results = client.get(\"gaq9-z3hz\", limit=3000)\n",
        "\n",
        "# Convert to pandas DataFrame\n",
        "q6 = pd.DataFrame.from_records(results)"
      ]
    },
    {
      "cell_type": "code",
      "execution_count": null,
      "metadata": {
        "id": "nqw8icJbqIWO"
      },
      "outputs": [],
      "source": [
        "q6.drop(['district','capture_rate_paper_total_paper_max_paper_', 'capture_rate_mgp_total_mgp_max_mgp_','capture_rate_total_total_recycling_leaves_recycling_max_paper_max_mgp_x100'], axis=1, inplace=True)"
      ]
    },
    {
      "cell_type": "code",
      "execution_count": null,
      "metadata": {
        "id": "K4oGGPpvAcKI"
      },
      "outputs": [],
      "source": [
        "q6['diversion_rate_total_total_recycling_total_waste_'] = round(q6['diversion_rate_total_total_recycling_total_waste_'].astype(float),2)"
      ]
    },
    {
      "cell_type": "code",
      "execution_count": null,
      "metadata": {
        "id": "TyhdilI2_XiA"
      },
      "outputs": [],
      "source": [
        "q6['Borough'] = q6['_zone'].replace({'Brooklyn North': 'Brooklyn', 'Brooklyn South': 'Brooklyn', 'Queens East': 'Queens', 'Queens West': 'Queens'})\n",
        "recycling = q6.groupby(['Borough', 'fiscal_year'])['diversion_rate_total_total_recycling_total_waste_'].mean()\n",
        "bronx_recycling = recycling['Bronx'].to_list()\n",
        "brooklyn_recycling = recycling['Brooklyn'].to_list()\n",
        "manhattan_recycling = recycling['Manhattan'].to_list()\n",
        "queens_recycling = recycling['Queens'].to_list()\n",
        "staten_recycling = recycling['Staten Island'].to_list()\n",
        "recycling_years = list(recycling['Bronx'].index)\n"
      ]
    },
    {
      "cell_type": "code",
      "execution_count": null,
      "metadata": {
        "id": "ov0Ogr2GEMRk"
      },
      "outputs": [],
      "source": [
        "q6[['Borough','diversion_rate_total_total_recycling_total_waste_']].groupby('Borough').mean().plot(kind = 'barh')\n",
        "plt.ylabel('%')\n",
        "plt.xlabel('Borough')\n",
        "plt.title(\"Diversion Rates in % by Borough\")"
      ]
    },
    {
      "cell_type": "code",
      "execution_count": null,
      "metadata": {
        "id": "1xR4pQHv2jI1"
      },
      "outputs": [],
      "source": [
        "recycling_yearly_trends = q6[['fiscal_year', 'diversion_rate_total_total_recycling_total_waste_']].groupby('fiscal_year')['diversion_rate_total_total_recycling_total_waste_'].mean()\n",
        "recycling_yearly_trends"
      ]
    },
    {
      "cell_type": "markdown",
      "metadata": {
        "id": "KCaxtEGa8l3j"
      },
      "source": [
        "## Scorecard Ratings Dataset"
      ]
    },
    {
      "cell_type": "code",
      "execution_count": null,
      "metadata": {
        "id": "e4mzLZNYqLgi"
      },
      "outputs": [],
      "source": [
        "client = Socrata('data.cityofnewyork.us',\n",
        "                 '7lNEaKU6tflxrc2RGLtO8riHn',\n",
        "                 username=\"cv25h2tpnfgm0x6xor5wfx2pt\",\n",
        "                 password=\"1hdkfdyecseu5ryqf64y0rnkszph7oyf8h0o1zzjw2krtwl73p\")\n",
        "\n",
        "results = client.get(\"rqhp-hivt\", limit=46000)\n",
        "\n",
        "# Convert to pandas DataFrame\n",
        "q7 = pd.DataFrame.from_records(results)\n",
        "q7['year'] = pd.DatetimeIndex(q7['month']).year\n",
        "q7 = q7[['month', 'borough', 'acceptable_streets_feb_2014', 'year']]\n",
        "q7.columns = ['Month', 'Borough', 'Acceptable Streets %', 'year']"
      ]
    },
    {
      "cell_type": "code",
      "execution_count": null,
      "metadata": {
        "id": "PLRBbA6dqTPH"
      },
      "outputs": [],
      "source": [
        "q7['Acceptable Streets %'] = q7['Acceptable Streets %'].astype(float)"
      ]
    },
    {
      "cell_type": "markdown",
      "metadata": {
        "id": "lKEcSJGmTTMR"
      },
      "source": [
        "### Street Cleanliness Ratings\n"
      ]
    },
    {
      "cell_type": "markdown",
      "metadata": {
        "id": "9w2jFfO59aNZ"
      },
      "source": [
        "#### Yearly Acceptable Streets - NYC as a Whole"
      ]
    },
    {
      "cell_type": "code",
      "execution_count": null,
      "metadata": {
        "id": "KQbmQJmf9MTW"
      },
      "outputs": [],
      "source": [
        "#yearly acceptable streets\n",
        "plt.figure(figsize=(18, 8), dpi=80)\n",
        "yearly_street = q7.loc[:,['Acceptable Streets %','year']]\n",
        "yearly_street = yearly_street.groupby('year')['Acceptable Streets %'].mean()\n",
        "yearly_street.plot(x ='year', y='Acceptable Streets %', kind='line')\n",
        "plt.ylim(89, 100)\n",
        "plt.ylabel('Percentage')\n",
        "plt.title('NYC Yearly Acceptable Streets')\n",
        "plt.xticks(np.arange(2005,2022))\n",
        "plt.ticklabel_format(useOffset=False, style='plain')\n"
      ]
    },
    {
      "cell_type": "markdown",
      "metadata": {
        "id": "5kE7cMLBAd1I"
      },
      "source": [
        "#### Yearly Acceptable Streets - By Boroughs"
      ]
    },
    {
      "cell_type": "code",
      "execution_count": null,
      "metadata": {
        "id": "exRwUT3nAqPJ"
      },
      "outputs": [],
      "source": [
        "#yearly acceptable streets by borough\n",
        "boro_street = q7.groupby(['Borough', 'year'], as_index=False)['Acceptable Streets %'].mean()\n",
        "boro_street"
      ]
    },
    {
      "cell_type": "code",
      "execution_count": null,
      "metadata": {
        "id": "F7ZqUO8IjLds"
      },
      "outputs": [],
      "source": [
        "street = q7.groupby(['Borough', 'year'])['Acceptable Streets %'].mean()\n",
        "bronx_street = street['Bronx'].to_list()\n",
        "manhattan_street = street['Manhattan'].to_list()\n",
        "brooklyn_street = street['Brooklyn'].to_list()\n",
        "staten_street = street['Staten Island'].to_list()\n",
        "queens_street = street['Queens'].to_list()"
      ]
    },
    {
      "cell_type": "code",
      "execution_count": null,
      "metadata": {
        "id": "W66d13XPj_JN"
      },
      "outputs": [],
      "source": [
        "street_years = list(street['Brooklyn'].index)"
      ]
    },
    {
      "cell_type": "code",
      "execution_count": null,
      "metadata": {
        "id": "Hw_OPkrNAwAJ"
      },
      "outputs": [],
      "source": [
        "street_cleanliness_rating = q7[['Acceptable Streets %','Borough']].groupby('Borough').mean()\n",
        "street_cleanliness_rating = street_cleanliness_rating.sort_values(by='Acceptable Streets %', ascending=False)\n",
        "street_cleanliness_rating"
      ]
    },
    {
      "cell_type": "code",
      "execution_count": null,
      "metadata": {
        "id": "lZrGb6vFAyhD"
      },
      "outputs": [],
      "source": [
        "street_cleanliness_rating.plot(kind = 'line', marker = 'o')"
      ]
    },
    {
      "cell_type": "code",
      "execution_count": null,
      "metadata": {
        "id": "3HfJwKOSAzrA"
      },
      "outputs": [],
      "source": [
        "plt.figure(figsize=(18, 8), dpi=80) #resize figure\n",
        "\n",
        "for i, b in enumerate(boroughs):\n",
        "  curr = boro_street[boro_street.Borough == b]\n",
        "  subplot_string = '23' + str(i + 1) #2 rows, 3 columns in total for our subplot, i is index of subplot\n",
        "  plt.subplot(int(subplot_string)) #create the subplot\n",
        "  plt.plot(curr['year'].values, curr['Acceptable Streets %'].values) #plot values\n",
        "  plt.ylim(85, 100)\n",
        "  plt.ylabel('Percentage')\n",
        "  title = str(b) + ' Yearly Acceptable Streets' #make title\n",
        "  plt.title(title)\n",
        "  plt.ticklabel_format(useOffset=False, style='plain') #prevent scientific notation"
      ]
    },
    {
      "cell_type": "markdown",
      "metadata": {
        "id": "CNoNiUa6BTDm"
      },
      "source": [
        "## Generating NYC Map"
      ]
    },
    {
      "cell_type": "code",
      "execution_count": null,
      "metadata": {
        "id": "I54WEgTtttEi"
      },
      "outputs": [],
      "source": [
        "!apt-get -qq install -y  libgeos-dev libproj-dev proj-data proj-bin libgdal-dev libspatialindex-dev\n",
        "!pip install -q -U shapely rtree pygeos\n",
        "!pip install -q geopandas descartes\n",
        "\n",
        "import geopandas as gpd\n",
        "\n",
        "# Dataset from NYC Open Data: https://data.cityofnewyork.us/City-Government/Neighborhood-Tabulation-Areas/cpf4-rkhq\n",
        "df_nyc = gpd.GeoDataFrame.from_file('https://data.cityofnewyork.us/api/geospatial/cpf4-rkhq?method=export&format=Shapefile')"
      ]
    },
    {
      "cell_type": "code",
      "execution_count": null,
      "metadata": {
        "id": "lp3xETYHv9Tp"
      },
      "outputs": [],
      "source": [
        "df_nyc.plot(\n",
        "    linewidth=0.5,\n",
        "    color='White',\n",
        "    edgecolor='Black',\n",
        "    figsize=(10, 10),\n",
        "    alpha=0.75\n",
        ")"
      ]
    },
    {
      "cell_type": "markdown",
      "source": [
        "## Drop Off"
      ],
      "metadata": {
        "id": "qbBJG6FDqpbo"
      }
    },
    {
      "cell_type": "code",
      "source": [
        "client = Socrata('data.cityofnewyork.us',\n",
        "                 '7lNEaKU6tflxrc2RGLtO8riHn',\n",
        "                 username=\"cv25h2tpnfgm0x6xor5wfx2pt\",\n",
        "                 password=\"1hdkfdyecseu5ryqf64y0rnkszph7oyf8h0o1zzjw2krtwl73p\")\n",
        "# electronic data set\n",
        "results = client.get(\"wshr-5vic\", limit=2000)\n",
        "# Convert to pandas DataFrame\n",
        "electronics_df = pd.DataFrame.from_records(results)\n",
        "\n",
        "# special waste\n",
        "results = client.get(\"242c-ru4i\", limit=2000)\n",
        "# Convert to pandas DataFrame\n",
        "specialwaste_df = pd.DataFrame.from_records(results)\n",
        "\n",
        "# food waste\n",
        "results = client.get(\"if26-z6xq\", limit=2000)\n",
        "# Convert to pandas DataFrame\n",
        "food_df = pd.DataFrame.from_records(results)"
      ],
      "metadata": {
        "id": "R7T8Vz6Kqoja"
      },
      "execution_count": null,
      "outputs": []
    },
    {
      "cell_type": "code",
      "source": [
        "electronics_df.rename(columns={'dropoff_sitename': 'name', 'latitude': 'lat', 'longitude': 'lon'}, inplace=True)\n",
        "electronics_df = electronics_df[['borough', 'name', 'address', 'lat', 'lon']]"
      ],
      "metadata": {
        "id": "e4XOd5eHrfcm"
      },
      "execution_count": null,
      "outputs": []
    },
    {
      "cell_type": "code",
      "source": [
        "specialwaste_df.rename(columns = {'boro': 'borough'}, inplace=True)\n",
        "specialwaste_df = specialwaste_df[['borough', 'name', 'address', 'point']]\n",
        "specialwaste_df['borough'].replace({'1': 'Manhattan', '2': 'Bronx', '3': 'Brooklyn', '4': 'Queens', '5': 'Staten Island'}, inplace=True)"
      ],
      "metadata": {
        "id": "JfXoIwP2roke"
      },
      "execution_count": null,
      "outputs": []
    },
    {
      "cell_type": "code",
      "source": [
        "def extract_coordinates(row):\n",
        "    coordinates = row['coordinates']\n",
        "    return coordinates[0], coordinates[1]\n",
        "\n",
        "specialwaste_df['lon'], specialwaste_df['lat'] = zip(*specialwaste_df['point'].apply(lambda x: extract_coordinates(x)))"
      ],
      "metadata": {
        "id": "JJ_0uheLk_sW"
      },
      "execution_count": null,
      "outputs": []
    },
    {
      "cell_type": "code",
      "source": [
        "food_df.rename(columns={'ntaname': 'name', 'location': 'address', 'latitude': 'lat', 'longitude': 'lon', 'operation_day_hours':\n",
        "                        'hours', 'open_hours': 'open_hour', 'open_months': 'open_month'}, inplace=True)"
      ],
      "metadata": {
        "id": "odXYzxsbrxlS"
      },
      "execution_count": null,
      "outputs": []
    },
    {
      "cell_type": "markdown",
      "metadata": {
        "id": "iyxZLDsUDtet"
      },
      "source": [
        "## Flask Server"
      ]
    },
    {
      "cell_type": "code",
      "execution_count": null,
      "metadata": {
        "id": "eDu6Gml5DvVL"
      },
      "outputs": [],
      "source": [
        "import os\n",
        "import threading\n",
        "from flask import Flask, render_template, jsonify, request\n",
        "from pyngrok import ngrok\n",
        "import base64\n",
        "from io import BytesIO\n",
        "import matplotlib.pyplot as plt\n",
        "import geopandas as gpd\n",
        "\n",
        "os.environ[\"FLASK_DEBUG\"] = \"true\"\n",
        "app = Flask(__name__, template_folder = '/content/drive/MyDrive/Projects in Programming & DS/Final Project/templates', static_folder = '/content/drive/MyDrive/Projects in Programming & DS/Final Project/templates')\n",
        "port = 5000"
      ]
    },
    {
      "cell_type": "code",
      "execution_count": null,
      "metadata": {
        "id": "eED4pqpAD8L0"
      },
      "outputs": [],
      "source": [
        "os.system(\"kill -9 $(pgrep ngrok)\")\n",
        "ngrok_authtoken = '2GjfRSRldgBDhUP2qnFZTaYce59_5JgCjrZXvMS7UXJJqu96p'\n",
        "ngrok.set_auth_token(ngrok_authtoken)\n",
        "public_url = ngrok.connect(port).public_url\n",
        "# Update any base URLs to use the public ngrok URL\n",
        "app.config[\"BASE_URL\"] = public_url\n",
        "print(f\" * ngrok tunnel '{public_url}' -> 'http://127.0.0.1:{port}'\")"
      ]
    },
    {
      "cell_type": "code",
      "execution_count": null,
      "metadata": {
        "id": "NuvJTnd7Gspn"
      },
      "outputs": [],
      "source": [
        "@app.route('/',  methods=['GET'])\n",
        "def index():\n",
        "    return render_template(\"homepage.html\")"
      ]
    },
    {
      "cell_type": "code",
      "execution_count": null,
      "metadata": {
        "id": "j1NGfsmT4DCN"
      },
      "outputs": [],
      "source": [
        "@app.route('/nycwaste', methods=['GET'])\n",
        "def nyc():\n",
        "  return render_template(\"nycwaste.html\",\n",
        "                         totalWasteCollected2022=totalWasteCollected2022,\n",
        "                         totalPaper2022=totalPaper2022,\n",
        "                         totalRefuse2022=totalRefuse2022,\n",
        "                         totalMGP2022 = totalMGP2022,\n",
        "                         percentageChangeWaste=percentageChangeWaste,\n",
        "                         percentageChangePaper=percentageChangePaper,\n",
        "                         percentageChangeRefuse=percentageChangeRefuse,\n",
        "                         percentageChangeMGP=percentageChangeMGP,\n",
        "                         yearly_data_chart_years=yearly_data_chart_years,\n",
        "                         yearly_data_chart_values=yearly_data_chart_values,\n",
        "                         yearly_paper_chart_years=yearly_paper_chart_years,\n",
        "                         yearly_paper_chart_values=yearly_paper_chart_values,\n",
        "                         yearly_mgp_chart_years=yearly_mgpt_chart_years,\n",
        "                         yearly_mgp_chart_values=yearly_mgpt_chart_values,\n",
        "                         yearly_refuse_chart_years=yearly_refuse_chart_years,\n",
        "                         yearly_refuse_chart_values=yearly_refuse_chart_values,\n",
        "                         years_boro_chart=years_boro_chart,\n",
        "                         bronx_values = bronx_values,\n",
        "                         manhattan_values = manhattan_values,\n",
        "                         queens_values = queens_values,\n",
        "                         staten_values = staten_values,\n",
        "                         brooklyn_values = brooklyn_values,\n",
        "                         pie_values = pie_values,\n",
        "                         pie_labels = pie_labels,\n",
        "                         current_year = current_year,\n",
        "                         pie_dict = pie_dict)"
      ]
    },
    {
      "cell_type": "code",
      "execution_count": null,
      "metadata": {
        "id": "tpcp5a3yO014"
      },
      "outputs": [],
      "source": [
        "@app.route('/boro', methods=['GET'])\n",
        "def boro():\n",
        "  return render_template(\"boro.html\")"
      ]
    },
    {
      "cell_type": "code",
      "execution_count": null,
      "metadata": {
        "id": "EiHTpMKKsKRa"
      },
      "outputs": [],
      "source": [
        "@app.route('/bronx', methods=['GET'])\n",
        "def bronx():\n",
        "  return render_template(\"bronx.html\",\n",
        "                         bronx_total_years=bronx_total_years,\n",
        "                         bronx_values=bronx_values,\n",
        "                         bronx_paper=bronx_paper,\n",
        "                         bronx_refuse=bronx_refuse,\n",
        "                         bronx_mgp=bronx_mgp,\n",
        "                         bronx_street=bronx_street,\n",
        "                         street_years=street_years,\n",
        "                         recycling_years=recycling_years,\n",
        "                         bronx_recycling=bronx_recycling,\n",
        "                         bronx_refuse_years=bronx_refuse_years,\n",
        "                         bronx_paper_years=bronx_paper_years,\n",
        "                         bronx_mgp_years=bronx_mgp_years\n",
        "                         )"
      ]
    },
    {
      "cell_type": "code",
      "execution_count": null,
      "metadata": {
        "id": "6PiMXZ3jsoJ3"
      },
      "outputs": [],
      "source": [
        "@app.route('/brooklyn', methods=['GET'])\n",
        "def brooklyn():\n",
        "  return render_template(\"brooklyn.html\",\n",
        "                         brooklyn_total_years=brooklyn_total_years,\n",
        "                         brooklyn_values=brooklyn_values,\n",
        "                         brooklyn_paper=brooklyn_paper,\n",
        "                         brooklyn_refuse=brooklyn_refuse,\n",
        "                         brooklyn_mgp=brooklyn_mgp,\n",
        "                         brooklyn_street=brooklyn_street,\n",
        "                         street_years=street_years,\n",
        "                         recycling_years=recycling_years,\n",
        "                         brooklyn_recycling=brooklyn_recycling,\n",
        "                         brooklyn_refuse_years=brooklyn_refuse_years,\n",
        "                         brooklyn_paper_years=brooklyn_paper_years,\n",
        "                         brooklyn_mgp_years=brooklyn_mgp_years\n",
        "                         )"
      ]
    },
    {
      "cell_type": "code",
      "execution_count": null,
      "metadata": {
        "id": "SxlWlGmnso5T"
      },
      "outputs": [],
      "source": [
        "@app.route('/manhattan', methods=['GET'])\n",
        "def manhattan():\n",
        "  return render_template(\"manhattan.html\",\n",
        "                         manhattan_total_years=manhattan_total_years,\n",
        "                         manhattan_values=manhattan_values,\n",
        "                         manhattan_paper=manhattan_paper,\n",
        "                         manhattan_refuse=manhattan_refuse,\n",
        "                         manhattan_refuse_years=manhattan_refuse_years,\n",
        "                         manhattan_mgp=manhattan_mgp,\n",
        "                         manhattan_street=manhattan_street,\n",
        "                         street_years=street_years,\n",
        "                         recycling_years=recycling_years,\n",
        "                         manhattan_recycling=manhattan_recycling,\n",
        "                         manhattan_paper_years=manhattan_paper_years,\n",
        "                         manhattan_mgp_years=manhattan_mgp_years\n",
        "                         )"
      ]
    },
    {
      "cell_type": "code",
      "execution_count": null,
      "metadata": {
        "id": "CK-u4waHspQ8"
      },
      "outputs": [],
      "source": [
        "@app.route('/queens', methods=['GET'])\n",
        "def queens():\n",
        "  return render_template(\"queens.html\",\n",
        "                         queens_total_years=queens_total_years,\n",
        "                         queens_values=queens_values,\n",
        "                         queens_paper=queens_paper,\n",
        "                         queens_refuse=queens_refuse,\n",
        "                         queens_mgp=queens_mgp,\n",
        "                         queens_street=queens_street,\n",
        "                         street_years=street_years,\n",
        "                         recycling_years=recycling_years,\n",
        "                         queens_recycling=queens_recycling,\n",
        "                         queens_refuse_years=queens_refuse_years,\n",
        "                         queens_paper_years=queens_paper_years,\n",
        "                         queens_mgp_years=queens_mgp_years\n",
        "                         )"
      ]
    },
    {
      "cell_type": "code",
      "execution_count": null,
      "metadata": {
        "id": "ppvV_rBNspjc"
      },
      "outputs": [],
      "source": [
        "@app.route('/staten', methods=['GET'])\n",
        "def staten():\n",
        "  return render_template(\"staten.html\",\n",
        "                         staten_total_years=staten_total_years,\n",
        "                         staten_values=staten_values,\n",
        "                         staten_paper=staten_paper,\n",
        "                         staten_refuse=staten_refuse,\n",
        "                         staten_mgp=staten_mgp,\n",
        "                         staten_street=staten_street,\n",
        "                         street_years=street_years,\n",
        "                         recycling_years=recycling_years,\n",
        "                         staten_recycling=staten_recycling,\n",
        "                         staten_refuse_years=staten_refuse_years,\n",
        "                         staten_paper_years=staten_paper_years,\n",
        "                         staten_mgp_years=staten_mgp_years\n",
        "                         )"
      ]
    },
    {
      "cell_type": "code",
      "execution_count": null,
      "metadata": {
        "id": "IpES7tGXzJ8_"
      },
      "outputs": [],
      "source": [
        "@app.route('/list_dropoffs',  methods=['GET'])\n",
        "def list_dropoffs():\n",
        "  return render_template(\"list_dropoffs.html\")"
      ]
    },
    {
      "cell_type": "code",
      "execution_count": null,
      "metadata": {
        "id": "tlHVDXaEzPyK"
      },
      "outputs": [],
      "source": [
        "# This is a function that connects to the database and returns back a\n",
        "# list of food dropoffs. It has an optional paramter \"search_name\"\n",
        "# which will limit the number of dropoffs that are returned.\n",
        "#\n",
        "# We also have the start/limit parameters that limit the number of\n",
        "# returned dropoffs\n",
        "def get_dropoffs(search_name=None, type_name = None, start=0, limit=1000):\n",
        "  if type_name == \"food\":\n",
        "    if search_name:\n",
        "      dropoffs = food_df.query(\"address.str.contains(@search_name , na=False) or borough.str.contains(@search_name, na=False)\")[\n",
        "    ['borough', 'name', 'address', 'open_month', 'hours', 'notes', 'lat', 'lon']\n",
        "]\n",
        "    else:\n",
        "      dropoffs = food_df[['borough', 'name', 'address', 'open_month', 'hours', 'notes', 'lat', 'lon']]\n",
        "    dropoffs = dropoffs[~dropoffs['borough'].isnull()]\n",
        "    return dropoffs\n",
        "  elif type_name == \"electronics\":\n",
        "    if search_name:\n",
        "      dropoffs = electronics_df.query(\"address.str.contains(@search_name , na=False) or borough.str.contains(@search_name, na=False)\")[['borough', 'name', 'address', 'lat', 'lon']]\n",
        "    else:\n",
        "      dropoffs = electronics_df[['borough', 'name', 'address', 'lat', 'lon']]\n",
        "    dropoffs = dropoffs[~dropoffs['borough'].isnull()]\n",
        "    return dropoffs\n",
        "  elif type_name == \"special_waste\":\n",
        "    if search_name:\n",
        "      dropoffs = specialwaste_df.query(\"address.str.contains(@search_name , na=False) or borough.str.contains(@search_name, na=False)\")[['borough', 'name', 'address', 'lat', 'lon']]\n",
        "    else:\n",
        "      dropoffs = specialwaste_df[['borough', 'name', 'address', 'lat', 'lon']]\n",
        "    dropoffs = dropoffs[~dropoffs['borough'].isnull()]\n",
        "    return dropoffs"
      ]
    },
    {
      "cell_type": "code",
      "execution_count": null,
      "metadata": {
        "id": "kh6XuWB-zSbL"
      },
      "outputs": [],
      "source": [
        "# This is the API call that returns back a list of the food dropoffs\n",
        "# Optionally we pass a query parameter call \"name\" which we then use to\n",
        "# search for food dropoffs that contain that string in their name\n",
        "\n",
        "@app.route('/dropoff_list_api')\n",
        "def find_dropoffs():\n",
        "  type_query = request.args.get('dropoff_type_query')\n",
        "  search_query = request.args.get('dropoff_name_query')\n",
        "\n",
        "  dropoffs = get_dropoffs(type_name = type_query, search_name = search_query)\n",
        "\n",
        "  string_columns = dropoffs.select_dtypes(include='object').columns\n",
        "  dropoffs[string_columns] = dropoffs[string_columns].fillna('N/A')\n",
        "\n",
        "  # Convert integer columns to nullable integer type and replace None and NaN values with a specific format (e.g., -1)\n",
        "  integer_columns = dropoffs.select_dtypes(include='integer').columns\n",
        "  dropoffs[integer_columns] = dropoffs[integer_columns].astype(pd.Int64Dtype()).fillna(-1)\n",
        "  # Convert the returned dataframe into a list of dictionaries\n",
        "  list_of_dropoffs = dropoffs.to_dict(orient='records')\n",
        "  api_results = {\"dropoffs\": list_of_dropoffs,\"type_query\": type_query, \"search_query\": search_query}\n",
        "\n",
        "  # We JSON-ify our dictionary and return it as the API response\n",
        "  return jsonify(api_results)"
      ]
    },
    {
      "cell_type": "code",
      "execution_count": null,
      "metadata": {
        "id": "7Xm1rJmyzYdH"
      },
      "outputs": [],
      "source": [
        "def create_dropoff_map_image(dropoffs):\n",
        "\n",
        "  fig, ax = plt.subplots(figsize=(7, 5))\n",
        "\n",
        "  # Create the map of NYC neighborhoods\n",
        "  nyc_map = df_nyc.plot(linewidth=0.1, color='White', edgecolor='Gray', ax = ax)\n",
        "\n",
        "  # Plot the matching dropoffs\n",
        "  ax = dropoffs.plot(kind='scatter', x='lon', y='lat', s=3, ax=nyc_map)\n",
        "\n",
        "  buf = BytesIO()\n",
        "  fig.savefig(buf, format=\"png\")\n",
        "  b64encoded = base64.b64encode(buf.getbuffer())\n",
        "  # Embed the result in the html output.\n",
        "  image_data = b64encoded.decode(\"ascii\")\n",
        "\n",
        "  return image_data"
      ]
    },
    {
      "cell_type": "code",
      "execution_count": null,
      "metadata": {
        "id": "JLsK9IMqzZZR"
      },
      "outputs": [],
      "source": [
        "# This API call returns a plot, in JSON format\n",
        "# Specifically, this returns a map of NYC with the\n",
        "# dropoffs that match the query\n",
        "@app.route('/dropoff_map',  methods=['GET'])\n",
        "def dropoff_map():\n",
        "\n",
        "  search_query = request.args.get('dropoff_name_query')\n",
        "  type_query = request.args.get('dropoff_type_query')\n",
        "\n",
        "  dropoffs = get_dropoffs(search_name = search_query, type_name = type_query)\n",
        "  dropoffs['lat'] = dropoffs['lat'].astype(float)\n",
        "  dropoffs['lon'] = dropoffs['lon'].astype(float)\n",
        "  string_columns = dropoffs.select_dtypes(include='object').columns\n",
        "  dropoffs[string_columns] = dropoffs[string_columns].fillna('N/A')\n",
        "\n",
        "  # Convert integer columns to nullable integer type and replace None and NaN values with a specific format (e.g., -1)\n",
        "  integer_columns = dropoffs.select_dtypes(include='integer').columns\n",
        "  dropoffs[integer_columns] = dropoffs[integer_columns].astype(pd.Int64Dtype()).fillna(-1)\n",
        "  image_data = create_dropoff_map_image(dropoffs)\n",
        "\n",
        "    # Create the response. We will put the retrieved data as a list of\n",
        "    # dictionaries, under the key \"dropoffs\".\n",
        "  results = {\"image_data\": \"data:image/png;base64,\" + image_data}\n",
        "\n",
        "  # We JSON-ify our dictionary and return it as the API response\n",
        "  return jsonify(results)"
      ]
    },
    {
      "cell_type": "code",
      "execution_count": null,
      "metadata": {
        "id": "3zVDEH4tGx7X"
      },
      "outputs": [],
      "source": [
        "print(f\" * ngrok tunnel '{public_url}' -> 'http://127.0.0.1:{port}'\")\n",
        "app.run(use_reloader=False)"
      ]
    }
  ],
  "metadata": {
    "colab": {
      "collapsed_sections": [
        "iHd8vjEd3m2U",
        "klbqzusD231W",
        "AXSoxNak7AO8",
        "gDKUJ-o87aQj",
        "Lle8gRvA7u1-",
        "F95Fb8vO72GR",
        "IlSOgpnx8JxW"
      ],
      "provenance": []
    },
    "kernelspec": {
      "display_name": "Python 3",
      "name": "python3"
    },
    "language_info": {
      "name": "python"
    }
  },
  "nbformat": 4,
  "nbformat_minor": 0
}